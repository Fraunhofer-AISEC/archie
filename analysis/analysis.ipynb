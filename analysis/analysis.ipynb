{
 "cells": [
  {
   "cell_type": "code",
   "execution_count": null,
   "metadata": {},
   "outputs": [],
   "source": [
    "import pandas as pd\n",
    "import tables\n",
    "from analysisfunctions import *\n",
    "from tenthRound import getTenthRoundKey\n"
   ]
  },
  {
   "cell_type": "code",
   "execution_count": null,
   "metadata": {},
   "outputs": [],
   "source": [
    "f = tables.open_file(\"aes.hdf5\", 'r')"
   ]
  },
  {
   "cell_type": "code",
   "execution_count": null,
   "metadata": {},
   "outputs": [],
   "source": [
    "print(f.root)\n",
    "faultgroup = f.root\n",
    "for n in faultgroup._f_iter_nodes('Group'):\n",
    "    print(n)\n",
    "[success, fail] = filter_endstatus_status(f.root.fault)\n",
    "print(len(success))\n",
    "print(len(fail))"
   ]
  },
  {
   "cell_type": "code",
   "execution_count": null,
   "metadata": {},
   "outputs": [],
   "source": [
    "reggroups = filter_experiment_type(f.root.fault, 2, success)\n",
    "print(len(reggroups))\n",
    "print(reggroups)"
   ]
  },
  {
   "cell_type": "code",
   "execution_count": null,
   "metadata": {},
   "outputs": [],
   "source": [
    "def findout_aes_faulttype(faultgroup, goldengroup):\n",
    "    noerror = []\n",
    "    oneerror = []\n",
    "    fourerror = []\n",
    "    allerror = []\n",
    "    notmatched = []\n",
    "    garray = goldengroup.memdumps.location_20000040_16_1[:][0]\n",
    "    for node in faultgroup._f_iter_nodes('Group'):\n",
    "        array_node = node.memdumps.location_20000040_16_1\n",
    "        array = array_node[:][0]\n",
    "        diff = 0\n",
    "        for i in range(0,16):\n",
    "            if array[i] != garray[i]:\n",
    "                diff = diff + 1\n",
    "        if diff == 0:\n",
    "            noerror.append(node._v_name)\n",
    "        elif diff == 1:\n",
    "            oneerror.append(node._v_name)\n",
    "        elif diff == 4:\n",
    "            fourerror.append(node._v_name)\n",
    "        elif diff == 16:\n",
    "            allerror.append(node._v_name)\n",
    "        else:\n",
    "            notmatched.append(node._v_name)\n",
    "        #print(array)\n",
    "        #print(garray)\n",
    "    return [noerror, oneerror, fourerror, allerror, notmatched]\n",
    "\n",
    "def group_exp_cyphers(groupnamelist):\n",
    "    retlist = []\n",
    "    for expname in groupnamelist:\n",
    "        found = 0\n",
    "        node = f.root.fault._f_get_child(expname)\n",
    "        aes_cypher = node.memdumps.location_20000040_16_1[:][0]\n",
    "        for exp in retlist:\n",
    "            diff = 0\n",
    "            for i in range(0, 16):\n",
    "                if exp['cypher'][i] != aes_cypher[i]:\n",
    "                    diff = diff + 1\n",
    "                if (diff == 0) and (i == 15):\n",
    "                    found = found + 1\n",
    "                    exp['expgroup'].append(expname)\n",
    "                    break\n",
    "            if found != 0:\n",
    "                break\n",
    "        if found == 0:\n",
    "            nodedict = {}\n",
    "            tmp = []\n",
    "            tmp.append(expname)\n",
    "            nodedict['expgroup'] = tmp\n",
    "            nodedict['cypher'] = aes_cypher\n",
    "            retlist.append(nodedict)\n",
    "    return retlist"
   ]
  },
  {
   "cell_type": "code",
   "execution_count": null,
   "metadata": {},
   "outputs": [],
   "source": [
    "# Sort output in different amounts of errors in the status\n",
    "[noerror, oneerror, fourerror, allerror, notmatched] = findout_aes_faulttype(f.root.fault, f.root.Goldenrun)\n",
    "print(\"noerror: {}\".format(len(noerror)))\n",
    "print(\"oneerror: {}\".format(len(oneerror)))\n",
    "print(\"fourerror: {}\".format(len(fourerror)))\n",
    "print(\"allerror: {}\".format(len(allerror)))\n",
    "print(\"notmatched: {}\".format(len(notmatched)))"
   ]
  },
  {
   "cell_type": "code",
   "execution_count": null,
   "metadata": {},
   "outputs": [],
   "source": [
    "# Try to find all round skip attacks\n",
    "instruction_faults = filter_experiment_type(f.root.fault, 1, success)\n",
    "instruction_faults = filter_faultaddress_exp(f.root.fault, 134220088, 134220098, instruction_faults)\n",
    "print(len(instruction_faults))\n",
    "print(instruction_faults)"
   ]
  },
  {
   "cell_type": "code",
   "execution_count": null,
   "metadata": {},
   "outputs": [],
   "source": [
    "# Combine the different outputs of the round skip attack into dictionaries\n",
    "\n",
    "grouped_roundskips = group_exp_cyphers(instruction_faults)\n",
    "print(len(grouped_roundskips))\n",
    "print(grouped_roundskips)"
   ]
  },
  {
   "cell_type": "code",
   "execution_count": null,
   "metadata": {},
   "outputs": [],
   "source": [
    "# Reverse the tenth round to get roundkey\n",
    "golden_aes_cypher = f.root.Goldenrun.memdumps.location_20000040_16_1[:][0]\n",
    "\n",
    "for groupdic in grouped_roundskips:\n",
    "    groupdic['guess'] = getTenthRoundKey(groupdic['cypher'], golden_aes_cypher)"
   ]
  },
  {
   "cell_type": "code",
   "execution_count": null,
   "metadata": {},
   "outputs": [],
   "source": [
    "# Check if a correct guess is inside the dataset for round skip attack\n",
    "tenthroundkey = [208, 20, 249, 168, 201, 238, 37, 137, 225, 63, 12, 200, 182, 99, 12, 166]\n",
    "correct_guess = []\n",
    "for groupdic in grouped_roundskips:\n",
    "    match = 0\n",
    "    for i in range(0, 16):\n",
    "        if groupdic['guess'][i] == tenthroundkey[i]:\n",
    "            match = match + 1\n",
    "    if match == 16:\n",
    "        print(len(groupdic['expgroup']))\n",
    "        correct_guess.append(groupdic)\n",
    "print(len(correct_guess))\n",
    "print(correct_guess)"
   ]
  },
  {
   "cell_type": "code",
   "execution_count": null,
   "metadata": {},
   "outputs": [],
   "source": [
    "match_allerror = intersectlists(allerror, reggroups)\n",
    "print(len(match_allerror))\n",
    "deduped_match_allerror = group_exp_cyphers(match_allerror)\n",
    "print(len(deduped_match_allerror))\n",
    "print(deduped_match_allerror)"
   ]
  }
 ],
 "metadata": {
  "kernelspec": {
   "display_name": "Python 3",
   "language": "python",
   "name": "python3"
  },
  "language_info": {
   "codemirror_mode": {
    "name": "ipython",
    "version": 3
   },
   "file_extension": ".py",
   "mimetype": "text/x-python",
   "name": "python",
   "nbconvert_exporter": "python",
   "pygments_lexer": "ipython3",
   "version": "3.8.10"
  }
 },
 "nbformat": 4,
 "nbformat_minor": 4
}
